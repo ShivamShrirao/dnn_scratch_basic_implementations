{
 "cells": [
  {
   "cell_type": "code",
   "execution_count": 1,
   "metadata": {},
   "outputs": [],
   "source": [
    "import matplotlib.pyplot as plt\n",
    "import numpy as np\n",
    "import cupy as cp"
   ]
  },
  {
   "cell_type": "code",
   "execution_count": 2,
   "metadata": {},
   "outputs": [
    {
     "name": "stdout",
     "output_type": "stream",
     "text": [
      "Loading dataset....\n",
      "Done.\n"
     ]
    }
   ],
   "source": [
    "from mnist import MNIST\n",
    "print(\"Loading dataset....\")\n",
    "mndata = MNIST('../mnist_dataset')\n",
    "X_train, y_train = mndata.load_training()\n",
    "X_train = (mndata.process_images_to_numpy(X_train)/255).astype(np.float32,copy=False)\n",
    "y_train = np.asarray(y_train,dtype=np.uint8)\n",
    "X_test, y_test = mndata.load_testing()\n",
    "X_test = (mndata.process_images_to_numpy(X_test)/255).astype(np.float32,copy=False)\n",
    "y_test = np.asarray(y_test,dtype=np.uint8)\n",
    "print(\"Done.\")"
   ]
  },
  {
   "cell_type": "code",
   "execution_count": 3,
   "metadata": {},
   "outputs": [],
   "source": [
    "def one_hot_encode(y):\n",
    "    Yo=np.zeros((y.size,int(y.max())+1),dtype=np.float32)\n",
    "    Yo[np.arange(y.size),y]=1\n",
    "    return Yo"
   ]
  },
  {
   "cell_type": "code",
   "execution_count": 4,
   "metadata": {},
   "outputs": [],
   "source": [
    "y_train=one_hot_encode(y_train)\n",
    "y_test=one_hot_encode(y_test)"
   ]
  },
  {
   "cell_type": "code",
   "execution_count": 2,
   "metadata": {},
   "outputs": [],
   "source": [
    "import sys\n",
    "sys.path.append(\"../dnn_from_scratch\")"
   ]
  },
  {
   "cell_type": "code",
   "execution_count": 3,
   "metadata": {
    "scrolled": true
   },
   "outputs": [],
   "source": [
    "from nnet_gpu.network import Sequential,layers\n",
    "from nnet_gpu.layers import Dense\n",
    "from nnet_gpu import functions\n",
    "from nnet_gpu import optimizers\n",
    "import numpy as np"
   ]
  },
  {
   "cell_type": "code",
   "execution_count": 6,
   "metadata": {},
   "outputs": [],
   "source": [
    "X_train=cp.asarray(X_train)\n",
    "y_train=cp.asarray(y_train)\n",
    "X_test=cp.asarray(X_test)\n",
    "y_test=cp.asarray(y_test)"
   ]
  },
  {
   "cell_type": "code",
   "execution_count": 4,
   "metadata": {
    "scrolled": true
   },
   "outputs": [],
   "source": [
    "model=Sequential()\n",
    "model.add(Dense(2048,input_shape=(784),activation=functions.relu))\n",
    "model.add(Dense(1024,activation=functions.relu))\n",
    "model.add(Dense(512,activation=functions.relu))\n",
    "model.add(Dense(256,activation=functions.relu))\n",
    "model.add(Dense(128,activation=functions.relu))\n",
    "model.add(Dense(10,activation=functions.softmax))"
   ]
  },
  {
   "cell_type": "code",
   "execution_count": 5,
   "metadata": {},
   "outputs": [
    {
     "name": "stdout",
     "output_type": "stream",
     "text": [
      "⎽⎽⎽⎽⎽⎽⎽⎽⎽⎽⎽⎽⎽⎽⎽⎽⎽⎽⎽⎽⎽⎽⎽⎽⎽⎽⎽⎽⎽⎽⎽⎽⎽⎽⎽⎽⎽⎽⎽⎽⎽⎽⎽⎽⎽⎽⎽⎽⎽⎽⎽⎽⎽⎽⎽⎽⎽⎽⎽⎽⎽⎽⎽⎽⎽⎽⎽⎽⎽⎽⎽⎽⎽⎽⎽⎽⎽⎽⎽⎽⎽⎽⎽⎽⎽⎽⎽⎽⎽⎽\n",
      "Layer (type)               Output Shape             Activation        Param #\n",
      "==========================================================================================\n",
      "- InputLayer(InputLayer)  (None, 784)                echo             0\n",
      "__________________________________________________________________________________________\n",
      "0 Dense(Dense)            (None, 2048)               relu             1607680\n",
      "__________________________________________________________________________________________\n",
      "1 Dense(Dense)            (None, 1024)               relu             2098176\n",
      "__________________________________________________________________________________________\n",
      "2 Dense(Dense)            (None, 512)                relu             524800\n",
      "__________________________________________________________________________________________\n",
      "3 Dense(Dense)            (None, 256)                relu             131328\n",
      "__________________________________________________________________________________________\n",
      "4 Dense(Dense)            (None, 128)                relu             32896\n",
      "__________________________________________________________________________________________\n",
      "5 Dense(Dense)            (None, 10)                 softmax          1290\n",
      "==========================================================================================\n",
      "Total Params: 4,396,170\n",
      "Trainable Params: 4,396,170\n",
      "Non-trainable Params: 0\n"
     ]
    }
   ],
   "source": [
    "model.summary()"
   ]
  },
  {
   "cell_type": "code",
   "execution_count": 9,
   "metadata": {},
   "outputs": [],
   "source": [
    "model.compile(optimizer=optimizers.adam,loss=functions.cross_entropy_with_logits,learning_rate=0.001)"
   ]
  },
  {
   "cell_type": "code",
   "execution_count": null,
   "metadata": {},
   "outputs": [
    {
     "name": "stdout",
     "output_type": "stream",
     "text": [
      "EPOCH: 1 / 10\n",
      "Progress:  60000 / 60000  - 0s - 0.041s/sample - loss: 0.0861 - accuracy: 0.9803      _\n",
      "Epoch time: 5.614s\n",
      "Validation Accuracy: 0.970 - val_loss: 0.4134\n",
      "EPOCH: 2 / 10\n",
      "Progress:  60000 / 60000  - 0s - 0.042s/sample - loss: 0.0508 - accuracy: 0.9848      _\n",
      "Epoch time: 5.665s\n",
      "Validation Accuracy: 0.977 - val_loss: 0.3312\n",
      "EPOCH: 3 / 10\n",
      "Progress:   3584 / 60000  - 5s - 0.05s/sample - loss: 0.1431 - accuracy: 0.9871      __"
     ]
    }
   ],
   "source": [
    "model.fit(X_train,y_train,batch_size=512,epochs=10,validation_data=(X_test,y_test))"
   ]
  },
  {
   "cell_type": "code",
   "execution_count": null,
   "metadata": {},
   "outputs": [],
   "source": []
  }
 ],
 "metadata": {
  "kernelspec": {
   "display_name": "Python 3",
   "language": "python",
   "name": "python3"
  },
  "language_info": {
   "codemirror_mode": {
    "name": "ipython",
    "version": 3
   },
   "file_extension": ".py",
   "mimetype": "text/x-python",
   "name": "python",
   "nbconvert_exporter": "python",
   "pygments_lexer": "ipython3",
   "version": "3.8.3"
  }
 },
 "nbformat": 4,
 "nbformat_minor": 2
}
